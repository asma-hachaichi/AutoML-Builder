{
  "cells": [
    {
      "cell_type": "markdown",
      "metadata": {
        "id": "1o6kvxYoUWbr"
      },
      "source": [
        "## H2O Model Trainer\n",
        "(30x rule - categorical variables encoding - correlation matrix)"
      ]
    },
    {
      "cell_type": "markdown",
      "metadata": {
        "id": "VC7lE4tZTcg_"
      },
      "source": [
        "In this notebook, once data is entered, the 30x rule (num_rows=num_cols*30) is applied to the dataset to avoid overfitting or very large datasets, and categorical variables are converted to numeric, then correlation matrix is calculated. If the maximum value in the correlation matrix is less than the threshold fixed, then deeplearning is included besides GLM, GBM and XGBoost algos."
      ]
    },
    {
      "cell_type": "code",
      "execution_count": null,
      "metadata": {
        "colab": {
          "base_uri": "https://localhost:8080/"
        },
        "id": "a4hTHE0ZKkHs",
        "outputId": "940cfed9-d708-44b8-9a88-d34c47eeb020"
      },
      "outputs": [
        {
          "name": "stdout",
          "output_type": "stream",
          "text": [
            "Requirement already satisfied: fastapi in /usr/local/lib/python3.10/dist-packages (0.111.1)\n",
            "Requirement already satisfied: nest-asyncio in /usr/local/lib/python3.10/dist-packages (1.6.0)\n",
            "Requirement already satisfied: pyngrok in /usr/local/lib/python3.10/dist-packages (7.1.6)\n",
            "Requirement already satisfied: uvicorn in /usr/local/lib/python3.10/dist-packages (0.30.1)\n",
            "Requirement already satisfied: h2o in /usr/local/lib/python3.10/dist-packages (3.46.0.4)\n",
            "Requirement already satisfied: starlette<0.38.0,>=0.37.2 in /usr/local/lib/python3.10/dist-packages (from fastapi) (0.37.2)\n",
            "Requirement already satisfied: pydantic!=1.8,!=1.8.1,!=2.0.0,!=2.0.1,!=2.1.0,<3.0.0,>=1.7.4 in /usr/local/lib/python3.10/dist-packages (from fastapi) (2.8.2)\n",
            "Requirement already satisfied: typing-extensions>=4.8.0 in /usr/local/lib/python3.10/dist-packages (from fastapi) (4.12.2)\n",
            "Requirement already satisfied: fastapi-cli>=0.0.2 in /usr/local/lib/python3.10/dist-packages (from fastapi) (0.0.4)\n",
            "Requirement already satisfied: httpx>=0.23.0 in /usr/local/lib/python3.10/dist-packages (from fastapi) (0.27.0)\n",
            "Requirement already satisfied: jinja2>=2.11.2 in /usr/local/lib/python3.10/dist-packages (from fastapi) (3.1.4)\n",
            "Requirement already satisfied: python-multipart>=0.0.7 in /usr/local/lib/python3.10/dist-packages (from fastapi) (0.0.9)\n",
            "Requirement already satisfied: email_validator>=2.0.0 in /usr/local/lib/python3.10/dist-packages (from fastapi) (2.2.0)\n",
            "Requirement already satisfied: PyYAML>=5.1 in /usr/local/lib/python3.10/dist-packages (from pyngrok) (6.0.1)\n",
            "Requirement already satisfied: click>=7.0 in /usr/local/lib/python3.10/dist-packages (from uvicorn) (8.1.7)\n",
            "Requirement already satisfied: h11>=0.8 in /usr/local/lib/python3.10/dist-packages (from uvicorn) (0.14.0)\n",
            "Requirement already satisfied: requests in /usr/local/lib/python3.10/dist-packages (from h2o) (2.31.0)\n",
            "Requirement already satisfied: tabulate in /usr/local/lib/python3.10/dist-packages (from h2o) (0.9.0)\n",
            "Requirement already satisfied: dnspython>=2.0.0 in /usr/local/lib/python3.10/dist-packages (from email_validator>=2.0.0->fastapi) (2.6.1)\n",
            "Requirement already satisfied: idna>=2.0.0 in /usr/local/lib/python3.10/dist-packages (from email_validator>=2.0.0->fastapi) (3.7)\n",
            "Requirement already satisfied: typer>=0.12.3 in /usr/local/lib/python3.10/dist-packages (from fastapi-cli>=0.0.2->fastapi) (0.12.3)\n",
            "Requirement already satisfied: anyio in /usr/local/lib/python3.10/dist-packages (from httpx>=0.23.0->fastapi) (3.7.1)\n",
            "Requirement already satisfied: certifi in /usr/local/lib/python3.10/dist-packages (from httpx>=0.23.0->fastapi) (2024.7.4)\n",
            "Requirement already satisfied: httpcore==1.* in /usr/local/lib/python3.10/dist-packages (from httpx>=0.23.0->fastapi) (1.0.5)\n",
            "Requirement already satisfied: sniffio in /usr/local/lib/python3.10/dist-packages (from httpx>=0.23.0->fastapi) (1.3.1)\n",
            "Requirement already satisfied: MarkupSafe>=2.0 in /usr/local/lib/python3.10/dist-packages (from jinja2>=2.11.2->fastapi) (2.1.5)\n",
            "Requirement already satisfied: annotated-types>=0.4.0 in /usr/local/lib/python3.10/dist-packages (from pydantic!=1.8,!=1.8.1,!=2.0.0,!=2.0.1,!=2.1.0,<3.0.0,>=1.7.4->fastapi) (0.7.0)\n",
            "Requirement already satisfied: pydantic-core==2.20.1 in /usr/local/lib/python3.10/dist-packages (from pydantic!=1.8,!=1.8.1,!=2.0.0,!=2.0.1,!=2.1.0,<3.0.0,>=1.7.4->fastapi) (2.20.1)\n",
            "Requirement already satisfied: httptools>=0.5.0 in /usr/local/lib/python3.10/dist-packages (from uvicorn) (0.6.1)\n",
            "Requirement already satisfied: python-dotenv>=0.13 in /usr/local/lib/python3.10/dist-packages (from uvicorn) (1.0.1)\n",
            "Requirement already satisfied: uvloop!=0.15.0,!=0.15.1,>=0.14.0 in /usr/local/lib/python3.10/dist-packages (from uvicorn) (0.19.0)\n",
            "Requirement already satisfied: watchfiles>=0.13 in /usr/local/lib/python3.10/dist-packages (from uvicorn) (0.22.0)\n",
            "Requirement already satisfied: websockets>=10.4 in /usr/local/lib/python3.10/dist-packages (from uvicorn) (12.0)\n",
            "Requirement already satisfied: charset-normalizer<4,>=2 in /usr/local/lib/python3.10/dist-packages (from requests->h2o) (3.3.2)\n",
            "Requirement already satisfied: urllib3<3,>=1.21.1 in /usr/local/lib/python3.10/dist-packages (from requests->h2o) (2.0.7)\n",
            "Requirement already satisfied: exceptiongroup in /usr/local/lib/python3.10/dist-packages (from anyio->httpx>=0.23.0->fastapi) (1.2.1)\n",
            "Requirement already satisfied: shellingham>=1.3.0 in /usr/local/lib/python3.10/dist-packages (from typer>=0.12.3->fastapi-cli>=0.0.2->fastapi) (1.5.4)\n",
            "Requirement already satisfied: rich>=10.11.0 in /usr/local/lib/python3.10/dist-packages (from typer>=0.12.3->fastapi-cli>=0.0.2->fastapi) (13.7.1)\n",
            "Requirement already satisfied: markdown-it-py>=2.2.0 in /usr/local/lib/python3.10/dist-packages (from rich>=10.11.0->typer>=0.12.3->fastapi-cli>=0.0.2->fastapi) (3.0.0)\n",
            "Requirement already satisfied: pygments<3.0.0,>=2.13.0 in /usr/local/lib/python3.10/dist-packages (from rich>=10.11.0->typer>=0.12.3->fastapi-cli>=0.0.2->fastapi) (2.16.1)\n",
            "Requirement already satisfied: mdurl~=0.1 in /usr/local/lib/python3.10/dist-packages (from markdown-it-py>=2.2.0->rich>=10.11.0->typer>=0.12.3->fastapi-cli>=0.0.2->fastapi) (0.1.2)\n"
          ]
        }
      ],
      "source": [
        "!pip install fastapi nest-asyncio pyngrok uvicorn h2o"
      ]
    },
    {
      "cell_type": "code",
      "execution_count": null,
      "metadata": {
        "colab": {
          "base_uri": "https://localhost:8080/"
        },
        "id": "ALIbKxHJPKsR",
        "outputId": "e4f4a0f3-0b3e-4fc7-f8d0-3042fe8689b8"
      },
      "outputs": [
        {
          "name": "stdout",
          "output_type": "stream",
          "text": [
            "Authtoken saved to configuration file: /root/.config/ngrok/ngrok.yml\n"
          ]
        }
      ],
      "source": [
        "!ngrok authtoken 'YOUR_NGROK_AUTH_TOKEN'"
      ]
    },
    {
      "cell_type": "code",
      "execution_count": null,
      "metadata": {
        "id": "akKDPU9wO9Hy"
      },
      "outputs": [],
      "source": [
        "from fastapi import FastAPI, UploadFile, File, Form\n",
        "from fastapi.middleware.cors import CORSMiddleware\n",
        "from fastapi.responses import JSONResponse\n",
        "import h2o\n",
        "from h2o.automl import H2OAutoML\n",
        "import pandas as pd\n",
        "import numpy as np\n",
        "from io import StringIO\n",
        "import nest_asyncio\n",
        "from pyngrok import ngrok\n",
        "import uvicorn\n",
        "import logging\n",
        "import os"
      ]
    },
    {
      "cell_type": "code",
      "execution_count": null,
      "metadata": {
        "colab": {
          "base_uri": "https://localhost:8080/",
          "height": 379
        },
        "id": "rMjPVFEtQV6R",
        "outputId": "7b7759e5-c514-46bd-b9f1-94f81c8fe357"
      },
      "outputs": [
        {
          "name": "stdout",
          "output_type": "stream",
          "text": [
            "Checking whether there is an H2O instance running at http://localhost:54321. connected.\n"
          ]
        },
        {
          "data": {
            "text/html": [
              "\n",
              "<style>\n",
              "\n",
              "#h2o-table-1.h2o-container {\n",
              "  overflow-x: auto;\n",
              "}\n",
              "#h2o-table-1 .h2o-table {\n",
              "  /* width: 100%; */\n",
              "  margin-top: 1em;\n",
              "  margin-bottom: 1em;\n",
              "}\n",
              "#h2o-table-1 .h2o-table caption {\n",
              "  white-space: nowrap;\n",
              "  caption-side: top;\n",
              "  text-align: left;\n",
              "  /* margin-left: 1em; */\n",
              "  margin: 0;\n",
              "  font-size: larger;\n",
              "}\n",
              "#h2o-table-1 .h2o-table thead {\n",
              "  white-space: nowrap; \n",
              "  position: sticky;\n",
              "  top: 0;\n",
              "  box-shadow: 0 -1px inset;\n",
              "}\n",
              "#h2o-table-1 .h2o-table tbody {\n",
              "  overflow: auto;\n",
              "}\n",
              "#h2o-table-1 .h2o-table th,\n",
              "#h2o-table-1 .h2o-table td {\n",
              "  text-align: right;\n",
              "  /* border: 1px solid; */\n",
              "}\n",
              "#h2o-table-1 .h2o-table tr:nth-child(even) {\n",
              "  /* background: #F5F5F5 */\n",
              "}\n",
              "\n",
              "</style>      \n",
              "<div id=\"h2o-table-1\" class=\"h2o-container\">\n",
              "  <table class=\"h2o-table\">\n",
              "    <caption></caption>\n",
              "    <thead></thead>\n",
              "    <tbody><tr><td>H2O_cluster_uptime:</td>\n",
              "<td>19 mins 32 secs</td></tr>\n",
              "<tr><td>H2O_cluster_timezone:</td>\n",
              "<td>Etc/UTC</td></tr>\n",
              "<tr><td>H2O_data_parsing_timezone:</td>\n",
              "<td>UTC</td></tr>\n",
              "<tr><td>H2O_cluster_version:</td>\n",
              "<td>3.46.0.4</td></tr>\n",
              "<tr><td>H2O_cluster_version_age:</td>\n",
              "<td>6 days</td></tr>\n",
              "<tr><td>H2O_cluster_name:</td>\n",
              "<td>H2O_from_python_unknownUser_h8wxq7</td></tr>\n",
              "<tr><td>H2O_cluster_total_nodes:</td>\n",
              "<td>1</td></tr>\n",
              "<tr><td>H2O_cluster_free_memory:</td>\n",
              "<td>3.040 Gb</td></tr>\n",
              "<tr><td>H2O_cluster_total_cores:</td>\n",
              "<td>2</td></tr>\n",
              "<tr><td>H2O_cluster_allowed_cores:</td>\n",
              "<td>2</td></tr>\n",
              "<tr><td>H2O_cluster_status:</td>\n",
              "<td>locked, healthy</td></tr>\n",
              "<tr><td>H2O_connection_url:</td>\n",
              "<td>http://localhost:54321</td></tr>\n",
              "<tr><td>H2O_connection_proxy:</td>\n",
              "<td>{\"http\": null, \"https\": null, \"colab_language_server\": \"/usr/colab/bin/language_service\"}</td></tr>\n",
              "<tr><td>H2O_internal_security:</td>\n",
              "<td>False</td></tr>\n",
              "<tr><td>Python_version:</td>\n",
              "<td>3.10.12 final</td></tr></tbody>\n",
              "  </table>\n",
              "</div>\n"
            ],
            "text/plain": [
              "--------------------------  -----------------------------------------------------------------------------------------\n",
              "H2O_cluster_uptime:         19 mins 32 secs\n",
              "H2O_cluster_timezone:       Etc/UTC\n",
              "H2O_data_parsing_timezone:  UTC\n",
              "H2O_cluster_version:        3.46.0.4\n",
              "H2O_cluster_version_age:    6 days\n",
              "H2O_cluster_name:           H2O_from_python_unknownUser_h8wxq7\n",
              "H2O_cluster_total_nodes:    1\n",
              "H2O_cluster_free_memory:    3.040 Gb\n",
              "H2O_cluster_total_cores:    2\n",
              "H2O_cluster_allowed_cores:  2\n",
              "H2O_cluster_status:         locked, healthy\n",
              "H2O_connection_url:         http://localhost:54321\n",
              "H2O_connection_proxy:       {\"http\": null, \"https\": null, \"colab_language_server\": \"/usr/colab/bin/language_service\"}\n",
              "H2O_internal_security:      False\n",
              "Python_version:             3.10.12 final\n",
              "--------------------------  -----------------------------------------------------------------------------------------"
            ]
          },
          "metadata": {},
          "output_type": "display_data"
        }
      ],
      "source": [
        "h2o.init()"
      ]
    },
    {
      "cell_type": "code",
      "execution_count": null,
      "metadata": {
        "id": "PTHAPtmfQgFB"
      },
      "outputs": [],
      "source": [
        "# Initialize FastAPI app\n",
        "app = FastAPI()\n",
        "\n",
        "app.add_middleware(\n",
        "    CORSMiddleware,\n",
        "    allow_origins=[\"*\"],\n",
        "    allow_credentials=True,\n",
        "    allow_methods=[\"*\"],\n",
        "    allow_headers=[\"*\"],\n",
        ")"
      ]
    },
    {
      "cell_type": "code",
      "execution_count": null,
      "metadata": {
        "id": "2avmV8YkOsma"
      },
      "outputs": [],
      "source": [
        "@app.get(\"/\")\n",
        "async def root():\n",
        "    return \"Hello World!\""
      ]
    },
    {
      "cell_type": "code",
      "execution_count": null,
      "metadata": {
        "id": "4yXmmjFcYUc3"
      },
      "outputs": [],
      "source": [
        "def determine_correlation(df, threshold=0.85):\n",
        "    #numeric_columns = df.select_dtypes(include=['number']).columns\n",
        "\n",
        "    #corr_matrix = df[numeric_columns].corr().abs()\n",
        "    corr_matrix = df.corr().abs()\n",
        "    upper = corr_matrix.where(np.triu(np.ones(corr_matrix.shape), k=1).astype(bool))\n",
        "    max_corr = upper.max().max()\n",
        "    print(\"max_corr : \",max_corr)\n",
        "\n",
        "    return max_corr < threshold"
      ]
    },
    {
      "cell_type": "code",
      "execution_count": null,
      "metadata": {
        "id": "RJxAOmSMAHQz"
      },
      "outputs": [],
      "source": [
        "def encode_ordered_categories(df):\n",
        "    df_encoded = df.copy()\n",
        "\n",
        "    for col in df.columns:\n",
        "        if pd.api.types.is_object_dtype(df[col]):\n",
        "            unique_values = df[col].unique()\n",
        "\n",
        "            if all(isinstance(val, str) and val.isdigit() for val in unique_values):\n",
        "                df_encoded[col] = pd.to_numeric(df[col], errors='coerce')\n",
        "            else:\n",
        "                order_mapping = {val: idx + 1 for idx, val in enumerate(unique_values)}\n",
        "                df_encoded[col] = df[col].map(order_mapping)\n",
        "\n",
        "    return df_encoded"
      ]
    },
    {
      "cell_type": "code",
      "execution_count": null,
      "metadata": {
        "id": "kl7yexnDNYRY"
      },
      "outputs": [],
      "source": [
        "def _30x_rule(df):\n",
        "    num_rows, num_cols = df.shape\n",
        "    max_rows = 30 * num_cols\n",
        "\n",
        "    # rows with non-null values (prob with datatype if numeric, later in prediction)\n",
        "    df_non_null = df.dropna()\n",
        "\n",
        "    if len(df_non_null) > max_rows:\n",
        "        df_non_null = df_non_null.sample(n=max_rows, random_state=42)\n",
        "        print(\"num rows extracted (non-null): \", max_rows)\n",
        "    else:\n",
        "        print(\"num rows extracted (null): \",len(df_non_null))\n",
        "\n",
        "    print(df_non_null)\n",
        "\n",
        "    return df_non_null"
      ]
    },
    {
      "cell_type": "code",
      "execution_count": null,
      "metadata": {
        "id": "rHCAR6YGQgWr"
      },
      "outputs": [],
      "source": [
        "@app.post('/train')\n",
        "async def train_model(file: UploadFile = File(...)):\n",
        "    csv_data = StringIO((await file.read()).decode('utf-8'))\n",
        "    df = pd.read_csv(csv_data)\n",
        "    df = _30x_rule(df)\n",
        "    h2o_df = h2o.H2OFrame(df)\n",
        "    x = h2o_df.columns\n",
        "    y = x[-1]#\"fetal_health\"\n",
        "    x.remove(y)\n",
        "\n",
        "    prob_type = \"regression\"\n",
        "    # for classification\n",
        "    target_unique_values = h2o_df[y].unique().nrow\n",
        "    if (h2o_df[y].isnumeric()[0] and target_unique_values < 10) or not h2o_df[y].isnumeric()[0]:\n",
        "        prob_type = \"classification\"\n",
        "        h2o_df[y] = h2o_df[y].asfactor()\n",
        "\n",
        "    include_algos = [\"GLM\", \"GBM\", \"XGBoost\"] # same for both prob types (best)\n",
        "\n",
        "    df_encoded = encode_ordered_categories(df[x])\n",
        "    #h2o_df = h2o.H2OFrame(df_encoded)\n",
        "\n",
        "    exclude_algos = [\"StackedEnsemble\"]\n",
        "    include_deep_learning = determine_correlation(df_encoded[x])\n",
        "\n",
        "    if include_deep_learning:\n",
        "        #include_algos=[\"DeepLearning\",\"GLM\",\"GBM\"]\n",
        "        include_algos.append(\"DeepLearning\")\n",
        "        print(\"Deep learning included\")\n",
        "    else:\n",
        "        print(\"Deep learning excluded\")\n",
        "\n",
        "    #aml = H2OAutoML(max_models=10, seed=1, exclude_algos=exclude_algos)\n",
        "    aml = H2OAutoML(max_models=10, seed=1, include_algos=include_algos)\n",
        "    #aml = H2OAutoML(max_models=10, seed=1, exclude_algos=[\"StackedEnsemble\"])\n",
        "    aml.train(x=x, y=y, training_frame=h2o_df)\n",
        "    print(aml.leaderboard)\n",
        "\n",
        "    model = aml.leader\n",
        "    model_path = h2o.save_model(model=model, path=\"./models\", force=True)\n",
        "\n",
        "    model_metrics = model.model_performance()._metric_json\n",
        "\n",
        "    if prob_type == \"classification\" :\n",
        "      model_details = {\n",
        "          'model_id': model.model_id,\n",
        "          'model_type': model.algo,\n",
        "          'model_path': model_path,\n",
        "          #'model_metrics' : model_metrics,\n",
        "          'model_category': model_metrics['model_category'],\n",
        "          'AUC' : model_metrics['AUC'],\n",
        "          'logloss' : model_metrics['logloss'],\n",
        "          'MSE' : model_metrics['MSE'],\n",
        "      }\n",
        "    else : # regression\n",
        "      model_details = {\n",
        "          'model_id': model.model_id,\n",
        "          'model_type': model.algo,\n",
        "          'model_path': model_path,\n",
        "          #'model_metrics' : model_metrics,\n",
        "          'model_category': model_metrics['model_category'],\n",
        "          'MSE' : model_metrics['MSE'],\n",
        "          'RMSE' : model_metrics['RMSE'],\n",
        "          #'MAE' : model_metrics['MAE'],\n",
        "      }\n",
        "\n",
        "    return JSONResponse(content={'modelpath': model_path, 'model_details': model_details})"
      ]
    },
    {
      "cell_type": "code",
      "execution_count": null,
      "metadata": {
        "id": "zaEqLVuFP1Km"
      },
      "outputs": [],
      "source": [
        "@app.post('/predict')\n",
        "async def predict_model(modelpath: str = Form(...), file: UploadFile = File(...)):\n",
        "    csv_data = StringIO((await file.read()).decode('utf-8'))\n",
        "    input_df = pd.read_csv(csv_data)\n",
        "    h2o_input_df = h2o.H2OFrame(input_df)\n",
        "\n",
        "    model = h2o.load_model(modelpath)\n",
        "\n",
        "    predictions = model.predict(h2o_input_df)\n",
        "    predictions_df = predictions.as_data_frame()\n",
        "\n",
        "    return JSONResponse(content=predictions_df.to_dict(orient=\"records\"))"
      ]
    },
    {
      "cell_type": "code",
      "execution_count": null,
      "metadata": {
        "colab": {
          "base_uri": "https://localhost:8080/"
        },
        "id": "JeVRFUTTQvF2",
        "outputId": "8b979ed9-3b57-4bd1-d7e1-a234188b5cf5"
      },
      "outputs": [
        {
          "name": "stdout",
          "output_type": "stream",
          "text": [
            "Public URL: https://3270-34-106-63-144.ngrok-free.app\n"
          ]
        },
        {
          "name": "stderr",
          "output_type": "stream",
          "text": [
            "INFO:     Started server process [5438]\n",
            "INFO:     Waiting for application startup.\n",
            "INFO:     Application startup complete.\n",
            "INFO:     Uvicorn running on http://127.0.0.1:8000 (Press CTRL+C to quit)\n"
          ]
        },
        {
          "name": "stdout",
          "output_type": "stream",
          "text": [
            "num rows extracted (non-null):  540\n",
            "          id  age  gender driving_experience    education         income  \\\n",
            "3265  384446    2       1             20-29y   university    upper class   \n",
            "603   456321    2       0               0-9y         none        poverty   \n",
            "9998  903459    1       0             10-19y  high school        poverty   \n",
            "9984  443302    1       0             10-19y  high school   middle class   \n",
            "4695  371790    1       0             10-19y  high school   middle class   \n",
            "...      ...  ...     ...                ...          ...            ...   \n",
            "6161  823356    0       1               0-9y   university  working class   \n",
            "3929   86349    0       0               0-9y         none   middle class   \n",
            "9416  518999    3       1               30y+   university   middle class   \n",
            "4268  432147    1       0             10-19y  high school   middle class   \n",
            "7426  171829    1       1             10-19y         none        poverty   \n",
            "\n",
            "      credit_score  vehicle_ownership vehicle_year  married  children  \\\n",
            "3265      0.633103                1.0   after 2015      1.0       1.0   \n",
            "603       0.417726                0.0  before 2015      0.0       1.0   \n",
            "9998      0.364185                0.0  before 2015      0.0       1.0   \n",
            "9984      0.679795                0.0  before 2015      0.0       0.0   \n",
            "4695      0.676351                1.0  before 2015      0.0       0.0   \n",
            "...            ...                ...          ...      ...       ...   \n",
            "6161      0.303168                1.0  before 2015      0.0       0.0   \n",
            "3929      0.506395                0.0   after 2015      0.0       1.0   \n",
            "9416      0.518765                1.0  before 2015      0.0       1.0   \n",
            "4268      0.619483                1.0   after 2015      1.0       1.0   \n",
            "7426      0.384700                0.0  before 2015      0.0       0.0   \n",
            "\n",
            "      postal_code  annual_mileage vehicle_type  speeding_violations  duis  \\\n",
            "3265        10238         10000.0        sedan                    1     0   \n",
            "603         10238          9000.0        sedan                    0     0   \n",
            "9998        10238         13000.0        sedan                    2     0   \n",
            "9984        32765         15000.0        sedan                    1     0   \n",
            "4695        10238         14000.0        sedan                    0     0   \n",
            "...           ...             ...          ...                  ...   ...   \n",
            "6161        10238         13000.0        sedan                    0     0   \n",
            "3929        21217         13000.0        sedan                    0     0   \n",
            "9416        10238         16000.0        sedan                    6     1   \n",
            "4268        10238         16000.0        sedan                    0     0   \n",
            "7426        10238         17000.0        sedan                    0     1   \n",
            "\n",
            "      past_accidents  outcome  \n",
            "3265               1      0.0  \n",
            "603                0      1.0  \n",
            "9998               1      1.0  \n",
            "9984               0      1.0  \n",
            "4695               0      0.0  \n",
            "...              ...      ...  \n",
            "6161               0      1.0  \n",
            "3929               0      1.0  \n",
            "9416               3      0.0  \n",
            "4268               0      0.0  \n",
            "7426               1      1.0  \n",
            "\n",
            "[540 rows x 18 columns]\n",
            "Parse progress: |████████████████████████████████████████████████████████████████| (done) 100%\n",
            "max_corr :  0.5102376906656592\n",
            "Deep learning included\n",
            "AutoML progress: |███████████████████████████████████████████████████████████████| (done) 100%\n",
            "model_id                                      auc    logloss     aucpr    mean_per_class_error      rmse       mse\n",
            "GBM_2_AutoML_9_20240716_115135           0.893899   0.373438  0.781427                0.19374   0.343911  0.118275\n",
            "XGBoost_2_AutoML_9_20240716_115135       0.890189   0.381262  0.764594                0.199712  0.344472  0.118661\n",
            "GBM_1_AutoML_9_20240716_115135           0.88704    0.386234  0.785033                0.175579  0.347007  0.120414\n",
            "XGBoost_1_AutoML_9_20240716_115135       0.883362   0.388648  0.760322                0.189094  0.350968  0.123178\n",
            "GBM_3_AutoML_9_20240716_115135           0.882964   0.392529  0.756833                0.197466  0.355093  0.126091\n",
            "XGBoost_3_AutoML_9_20240716_115135       0.881125   0.403428  0.754999                0.192991  0.357333  0.127687\n",
            "GBM_4_AutoML_9_20240716_115135           0.874974   0.398331  0.767674                0.20601   0.355745  0.126554\n",
            "GLM_1_AutoML_9_20240716_115135           0.871003   0.402535  0.760266                0.183536  0.355649  0.126486\n",
            "GBM_5_AutoML_9_20240716_115135           0.856048   0.431966  0.713228                0.209484  0.372493  0.138751\n",
            "DeepLearning_1_AutoML_9_20240716_115135  0.837529   0.483045  0.721435                0.205595  0.388317  0.15079\n",
            "[10 rows x 7 columns]\n",
            "\n",
            "INFO:     197.25.187.211:0 - \"POST /train HTTP/1.1\" 200 OK\n",
            "Parse progress: |████████████████████████████████████████████████████████████████| (done) 100%\n",
            "gbm prediction progress: | (failed)\n",
            "INFO:     197.25.187.211:0 - \"POST /predict HTTP/1.1\" 500 Internal Server Error\n"
          ]
        },
        {
          "name": "stderr",
          "output_type": "stream",
          "text": [
            "ERROR:    Exception in ASGI application\n",
            "Traceback (most recent call last):\n",
            "  File \"/usr/local/lib/python3.10/dist-packages/uvicorn/protocols/http/httptools_impl.py\", line 399, in run_asgi\n",
            "    result = await app(  # type: ignore[func-returns-value]\n",
            "  File \"/usr/local/lib/python3.10/dist-packages/uvicorn/middleware/proxy_headers.py\", line 70, in __call__\n",
            "    return await self.app(scope, receive, send)\n",
            "  File \"/usr/local/lib/python3.10/dist-packages/fastapi/applications.py\", line 1054, in __call__\n",
            "    await super().__call__(scope, receive, send)\n",
            "  File \"/usr/local/lib/python3.10/dist-packages/starlette/applications.py\", line 123, in __call__\n",
            "    await self.middleware_stack(scope, receive, send)\n",
            "  File \"/usr/local/lib/python3.10/dist-packages/starlette/middleware/errors.py\", line 186, in __call__\n",
            "    raise exc\n",
            "  File \"/usr/local/lib/python3.10/dist-packages/starlette/middleware/errors.py\", line 164, in __call__\n",
            "    await self.app(scope, receive, _send)\n",
            "  File \"/usr/local/lib/python3.10/dist-packages/starlette/middleware/cors.py\", line 85, in __call__\n",
            "    await self.app(scope, receive, send)\n",
            "  File \"/usr/local/lib/python3.10/dist-packages/starlette/middleware/exceptions.py\", line 65, in __call__\n",
            "    await wrap_app_handling_exceptions(self.app, conn)(scope, receive, send)\n",
            "  File \"/usr/local/lib/python3.10/dist-packages/starlette/_exception_handler.py\", line 64, in wrapped_app\n",
            "    raise exc\n",
            "  File \"/usr/local/lib/python3.10/dist-packages/starlette/_exception_handler.py\", line 53, in wrapped_app\n",
            "    await app(scope, receive, sender)\n",
            "  File \"/usr/local/lib/python3.10/dist-packages/starlette/routing.py\", line 756, in __call__\n",
            "    await self.middleware_stack(scope, receive, send)\n",
            "  File \"/usr/local/lib/python3.10/dist-packages/starlette/routing.py\", line 776, in app\n",
            "    await route.handle(scope, receive, send)\n",
            "  File \"/usr/local/lib/python3.10/dist-packages/starlette/routing.py\", line 297, in handle\n",
            "    await self.app(scope, receive, send)\n",
            "  File \"/usr/local/lib/python3.10/dist-packages/starlette/routing.py\", line 77, in app\n",
            "    await wrap_app_handling_exceptions(app, request)(scope, receive, send)\n",
            "  File \"/usr/local/lib/python3.10/dist-packages/starlette/_exception_handler.py\", line 64, in wrapped_app\n",
            "    raise exc\n",
            "  File \"/usr/local/lib/python3.10/dist-packages/starlette/_exception_handler.py\", line 53, in wrapped_app\n",
            "    await app(scope, receive, sender)\n",
            "  File \"/usr/local/lib/python3.10/dist-packages/starlette/routing.py\", line 72, in app\n",
            "    response = await func(request)\n",
            "  File \"/usr/local/lib/python3.10/dist-packages/fastapi/routing.py\", line 278, in app\n",
            "    raw_response = await run_endpoint_function(\n",
            "  File \"/usr/local/lib/python3.10/dist-packages/fastapi/routing.py\", line 191, in run_endpoint_function\n",
            "    return await dependant.call(**values)\n",
            "  File \"<ipython-input-56-e3fd44302dfe>\", line 9, in predict_model\n",
            "    predictions = model.predict(h2o_input_df)\n",
            "  File \"/usr/local/lib/python3.10/dist-packages/h2o/model/model_base.py\", line 334, in predict\n",
            "    j.poll()\n",
            "  File \"/usr/local/lib/python3.10/dist-packages/h2o/job.py\", line 88, in poll\n",
            "    raise EnvironmentError(\"Job with key {} failed with an exception: {}\\nstacktrace: \"\n",
            "OSError: Job with key $03017f00000132d4ffffffff$_93a25b5db712992060e994b51d054316 failed with an exception: java.lang.IllegalArgumentException: Test/Validation dataset has a non-categorical column 'driving_experience' which is categorical in the training data\n",
            "stacktrace: \n",
            "java.lang.IllegalArgumentException: Test/Validation dataset has a non-categorical column 'driving_experience' which is categorical in the training data\n",
            "\tat hex.Model.adaptTestForTrain(Model.java:1820)\n",
            "\tat hex.Model.adaptTestForTrain(Model.java:1643)\n",
            "\tat hex.Model.adaptTestForTrain(Model.java:1639)\n",
            "\tat hex.Model.adaptFrameForScore(Model.java:1981)\n",
            "\tat hex.Model.score(Model.java:1999)\n",
            "\tat water.api.ModelMetricsHandler$1.compute2(ModelMetricsHandler.java:555)\n",
            "\tat water.H2O$H2OCountedCompleter.compute(H2O.java:1704)\n",
            "\tat jsr166y.CountedCompleter.exec(CountedCompleter.java:468)\n",
            "\tat jsr166y.ForkJoinTask.doExec(ForkJoinTask.java:263)\n",
            "\tat jsr166y.ForkJoinPool$WorkQueue.runTask(ForkJoinPool.java:976)\n",
            "\tat jsr166y.ForkJoinPool.runWorker(ForkJoinPool.java:1479)\n",
            "\tat jsr166y.ForkJoinWorkerThread.run(ForkJoinWorkerThread.java:104)\n",
            "\n"
          ]
        },
        {
          "name": "stdout",
          "output_type": "stream",
          "text": [
            "Parse progress: |████████████████████████████████████████████████████████████████| (done) 100%\n",
            "gbm prediction progress: |███████████████████████████████████████████████████████| (done) 100%\n",
            "INFO:     197.25.187.211:0 - \"POST /predict HTTP/1.1\" 200 OK\n"
          ]
        },
        {
          "name": "stderr",
          "output_type": "stream",
          "text": [
            "/usr/local/lib/python3.10/dist-packages/h2o/frame.py:1981: H2ODependencyWarning: Converting H2O frame to pandas dataframe using single-thread.  For faster conversion using multi-thread, install polars and pyarrow and use it as pandas_df = h2o_df.as_data_frame(use_multi_thread=True)\n",
            "\n",
            "  warnings.warn(\"Converting H2O frame to pandas dataframe using single-thread.  For faster conversion using\"\n"
          ]
        },
        {
          "name": "stdout",
          "output_type": "stream",
          "text": [
            "num rows extracted (non-null):  60\n",
            "         x           y\n",
            "158  100.0   96.623279\n",
            "500   97.0   94.296334\n",
            "397   12.0   14.558961\n",
            "155   86.0   86.821321\n",
            "322   91.0   94.367790\n",
            "212  100.0  100.015803\n",
            "235   65.0   58.372660\n",
            "290   25.0   25.041692\n",
            "301   34.0   36.596231\n",
            "357   22.0   21.107946\n",
            "673   61.0   60.022749\n",
            "329   22.0   18.562414\n",
            "199   51.0   47.577536\n",
            "78     5.0    4.928546\n",
            "599    2.0   -0.121861\n",
            "570   32.0   35.003411\n",
            "447   25.0   25.537528\n",
            "507    0.0    1.406254\n",
            "627   35.0   32.649976\n",
            "604   43.0   41.022518\n",
            "361   99.0  100.095370\n",
            "339   17.0   13.249916\n",
            "669   24.0   19.426375\n",
            "291    1.0    3.778210\n",
            "285    5.0    1.628826\n",
            "332   74.0   73.596434\n",
            "478   29.0   26.655663\n",
            "54    14.0   17.706776\n",
            "249   35.0   36.780350\n",
            "224   78.0   79.105063\n",
            "133   68.0   64.057102\n",
            "641   14.0   10.582140\n",
            "136   79.0   81.222592\n",
            "109   56.0   57.872192\n",
            "181   52.0   52.953055\n",
            "433   76.0   73.138500\n",
            "555   43.0   44.707864\n",
            "483   23.0   21.024694\n",
            "517   91.0   91.170129\n",
            "132   27.0   21.531400\n",
            "176    2.0   -1.053276\n",
            "72     5.0    0.707511\n",
            "255   50.0   49.826341\n",
            "578   44.0   41.574210\n",
            "650   47.0   48.796471\n",
            "596    3.0    5.297054\n",
            "667   58.0   62.800642\n",
            "353   98.0   97.194488\n",
            "76     7.0    7.459606\n",
            "148    7.0    6.815491\n",
            "347   37.0   37.694474\n",
            "90    53.0   49.218635\n",
            "682   34.0   36.723970\n",
            "10    16.0   11.237573\n",
            "63    51.0   51.901420\n",
            "636   81.0   83.784109\n",
            "657   52.0   51.921102\n",
            "174   47.0   44.150294\n",
            "257   60.0   53.650847\n",
            "668   42.0   41.251556\n",
            "Parse progress: |████████████████████████████████████████████████████████████████| (done) 100%\n",
            "max_corr :  nan\n",
            "Deep learning excluded\n",
            "AutoML progress: |█\n",
            "11:55:18.373: _min_rows param, The dataset size is too small to split for min_rows=100.0: must have at least 200.0 (weighted) rows, but have only 60.0.\n",
            "\n",
            "██████████████████████████████████████████████████████████████| (done) 100%\n",
            "model_id                                             rmse       mse      mae    rmsle    mean_residual_deviance\n",
            "GLM_1_AutoML_10_20240716_115512                   2.8006    7.84334  2.38354      nan                   7.84334\n",
            "XGBoost_grid_1_AutoML_10_20240716_115512_model_2  3.60084  12.966    2.99401      nan                  12.966\n",
            "GBM_5_AutoML_10_20240716_115512                   3.64821  13.3094   3.02532      nan                  13.3094\n",
            "XGBoost_2_AutoML_10_20240716_115512               3.66526  13.4341   3.04219      nan                  13.4341\n",
            "XGBoost_3_AutoML_10_20240716_115512               3.77713  14.2667   3.19118      nan                  14.2667\n",
            "XGBoost_grid_1_AutoML_10_20240716_115512_model_1  4.37883  19.1742   3.66375      nan                  19.1742\n",
            "GBM_2_AutoML_10_20240716_115512                   6.92324  47.9312   4.7956       nan                  47.9312\n",
            "GBM_3_AutoML_10_20240716_115512                   6.94494  48.2322   4.81796      nan                  48.2322\n",
            "GBM_4_AutoML_10_20240716_115512                   6.9806   48.7287   4.90425      nan                  48.7287\n",
            "XGBoost_1_AutoML_10_20240716_115512               8.00575  64.0921   5.80228      nan                  64.0921\n",
            "[10 rows x 6 columns]\n",
            "\n",
            "INFO:     197.25.187.211:0 - \"POST /train HTTP/1.1\" 200 OK\n",
            "Parse progress: |████████████████████████████████████████████████████████████████| (done) 100%\n",
            "glm prediction progress: |███████████████████████████████████████████████████████| (done) 100%\n",
            "INFO:     197.25.187.211:0 - \"POST /predict HTTP/1.1\" 200 OK\n"
          ]
        },
        {
          "name": "stderr",
          "output_type": "stream",
          "text": [
            "/usr/local/lib/python3.10/dist-packages/h2o/frame.py:1981: H2ODependencyWarning: Converting H2O frame to pandas dataframe using single-thread.  For faster conversion using multi-thread, install polars and pyarrow and use it as pandas_df = h2o_df.as_data_frame(use_multi_thread=True)\n",
            "\n",
            "  warnings.warn(\"Converting H2O frame to pandas dataframe using single-thread.  For faster conversion using\"\n"
          ]
        }
      ],
      "source": [
        "# set up ngrok and run the app\n",
        "ngrok_tunnel = ngrok.connect(8000)\n",
        "print('Public URL:', ngrok_tunnel.public_url)\n",
        "nest_asyncio.apply()\n",
        "uvicorn.run(app, port=8000)"
      ]
    }
  ],
  "metadata": {
    "colab": {
      "provenance": []
    },
    "kernelspec": {
      "display_name": "Python 3",
      "name": "python3"
    },
    "language_info": {
      "name": "python"
    }
  },
  "nbformat": 4,
  "nbformat_minor": 0
}
