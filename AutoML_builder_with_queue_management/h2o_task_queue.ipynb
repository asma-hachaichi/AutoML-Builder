{
  "cells": [
    {
      "cell_type": "code",
      "execution_count": 1,
      "metadata": {
        "colab": {
          "base_uri": "https://localhost:8080/"
        },
        "id": "MqAypQHrb6uO",
        "outputId": "f2770c21-7ea1-4dfa-ec03-ab6c94285231"
      },
      "outputs": [
        {
          "output_type": "stream",
          "name": "stdout",
          "text": [
            "Requirement already satisfied: fastapi in /usr/local/lib/python3.10/dist-packages (0.111.1)\n",
            "Requirement already satisfied: nest-asyncio in /usr/local/lib/python3.10/dist-packages (1.6.0)\n",
            "Requirement already satisfied: pyngrok in /usr/local/lib/python3.10/dist-packages (7.2.0)\n",
            "Requirement already satisfied: uvicorn in /usr/local/lib/python3.10/dist-packages (0.30.3)\n",
            "Requirement already satisfied: h2o in /usr/local/lib/python3.10/dist-packages (3.46.0.4)\n",
            "Requirement already satisfied: starlette<0.38.0,>=0.37.2 in /usr/local/lib/python3.10/dist-packages (from fastapi) (0.37.2)\n",
            "Requirement already satisfied: pydantic!=1.8,!=1.8.1,!=2.0.0,!=2.0.1,!=2.1.0,<3.0.0,>=1.7.4 in /usr/local/lib/python3.10/dist-packages (from fastapi) (2.8.2)\n",
            "Requirement already satisfied: typing-extensions>=4.8.0 in /usr/local/lib/python3.10/dist-packages (from fastapi) (4.12.2)\n",
            "Requirement already satisfied: fastapi-cli>=0.0.2 in /usr/local/lib/python3.10/dist-packages (from fastapi) (0.0.4)\n",
            "Requirement already satisfied: httpx>=0.23.0 in /usr/local/lib/python3.10/dist-packages (from fastapi) (0.27.0)\n",
            "Requirement already satisfied: jinja2>=2.11.2 in /usr/local/lib/python3.10/dist-packages (from fastapi) (3.1.4)\n",
            "Requirement already satisfied: python-multipart>=0.0.7 in /usr/local/lib/python3.10/dist-packages (from fastapi) (0.0.9)\n",
            "Requirement already satisfied: email_validator>=2.0.0 in /usr/local/lib/python3.10/dist-packages (from fastapi) (2.2.0)\n",
            "Requirement already satisfied: PyYAML>=5.1 in /usr/local/lib/python3.10/dist-packages (from pyngrok) (6.0.1)\n",
            "Requirement already satisfied: click>=7.0 in /usr/local/lib/python3.10/dist-packages (from uvicorn) (8.1.7)\n",
            "Requirement already satisfied: h11>=0.8 in /usr/local/lib/python3.10/dist-packages (from uvicorn) (0.14.0)\n",
            "Requirement already satisfied: requests in /usr/local/lib/python3.10/dist-packages (from h2o) (2.31.0)\n",
            "Requirement already satisfied: tabulate in /usr/local/lib/python3.10/dist-packages (from h2o) (0.9.0)\n",
            "Requirement already satisfied: dnspython>=2.0.0 in /usr/local/lib/python3.10/dist-packages (from email_validator>=2.0.0->fastapi) (2.6.1)\n",
            "Requirement already satisfied: idna>=2.0.0 in /usr/local/lib/python3.10/dist-packages (from email_validator>=2.0.0->fastapi) (3.7)\n",
            "Requirement already satisfied: typer>=0.12.3 in /usr/local/lib/python3.10/dist-packages (from fastapi-cli>=0.0.2->fastapi) (0.12.3)\n",
            "Requirement already satisfied: anyio in /usr/local/lib/python3.10/dist-packages (from httpx>=0.23.0->fastapi) (3.7.1)\n",
            "Requirement already satisfied: certifi in /usr/local/lib/python3.10/dist-packages (from httpx>=0.23.0->fastapi) (2024.7.4)\n",
            "Requirement already satisfied: httpcore==1.* in /usr/local/lib/python3.10/dist-packages (from httpx>=0.23.0->fastapi) (1.0.5)\n",
            "Requirement already satisfied: sniffio in /usr/local/lib/python3.10/dist-packages (from httpx>=0.23.0->fastapi) (1.3.1)\n",
            "Requirement already satisfied: MarkupSafe>=2.0 in /usr/local/lib/python3.10/dist-packages (from jinja2>=2.11.2->fastapi) (2.1.5)\n",
            "Requirement already satisfied: annotated-types>=0.4.0 in /usr/local/lib/python3.10/dist-packages (from pydantic!=1.8,!=1.8.1,!=2.0.0,!=2.0.1,!=2.1.0,<3.0.0,>=1.7.4->fastapi) (0.7.0)\n",
            "Requirement already satisfied: pydantic-core==2.20.1 in /usr/local/lib/python3.10/dist-packages (from pydantic!=1.8,!=1.8.1,!=2.0.0,!=2.0.1,!=2.1.0,<3.0.0,>=1.7.4->fastapi) (2.20.1)\n",
            "Requirement already satisfied: httptools>=0.5.0 in /usr/local/lib/python3.10/dist-packages (from uvicorn[standard]>=0.12.0->fastapi) (0.6.1)\n",
            "Requirement already satisfied: python-dotenv>=0.13 in /usr/local/lib/python3.10/dist-packages (from uvicorn[standard]>=0.12.0->fastapi) (1.0.1)\n",
            "Requirement already satisfied: uvloop!=0.15.0,!=0.15.1,>=0.14.0 in /usr/local/lib/python3.10/dist-packages (from uvicorn[standard]>=0.12.0->fastapi) (0.19.0)\n",
            "Requirement already satisfied: watchfiles>=0.13 in /usr/local/lib/python3.10/dist-packages (from uvicorn[standard]>=0.12.0->fastapi) (0.22.0)\n",
            "Requirement already satisfied: websockets>=10.4 in /usr/local/lib/python3.10/dist-packages (from uvicorn[standard]>=0.12.0->fastapi) (12.0)\n",
            "Requirement already satisfied: charset-normalizer<4,>=2 in /usr/local/lib/python3.10/dist-packages (from requests->h2o) (3.3.2)\n",
            "Requirement already satisfied: urllib3<3,>=1.21.1 in /usr/local/lib/python3.10/dist-packages (from requests->h2o) (2.0.7)\n",
            "Requirement already satisfied: exceptiongroup in /usr/local/lib/python3.10/dist-packages (from anyio->httpx>=0.23.0->fastapi) (1.2.2)\n",
            "Requirement already satisfied: shellingham>=1.3.0 in /usr/local/lib/python3.10/dist-packages (from typer>=0.12.3->fastapi-cli>=0.0.2->fastapi) (1.5.4)\n",
            "Requirement already satisfied: rich>=10.11.0 in /usr/local/lib/python3.10/dist-packages (from typer>=0.12.3->fastapi-cli>=0.0.2->fastapi) (13.7.1)\n",
            "Requirement already satisfied: markdown-it-py>=2.2.0 in /usr/local/lib/python3.10/dist-packages (from rich>=10.11.0->typer>=0.12.3->fastapi-cli>=0.0.2->fastapi) (3.0.0)\n",
            "Requirement already satisfied: pygments<3.0.0,>=2.13.0 in /usr/local/lib/python3.10/dist-packages (from rich>=10.11.0->typer>=0.12.3->fastapi-cli>=0.0.2->fastapi) (2.16.1)\n",
            "Requirement already satisfied: mdurl~=0.1 in /usr/local/lib/python3.10/dist-packages (from markdown-it-py>=2.2.0->rich>=10.11.0->typer>=0.12.3->fastapi-cli>=0.0.2->fastapi) (0.1.2)\n"
          ]
        }
      ],
      "source": [
        "!pip install fastapi nest-asyncio pyngrok uvicorn h2o"
      ]
    },
    {
      "cell_type": "code",
      "execution_count": 2,
      "metadata": {
        "colab": {
          "base_uri": "https://localhost:8080/"
        },
        "id": "EyWvGhhncAQE",
        "outputId": "1be46bf6-9b4c-4e5f-a6de-ce869aac2ffa"
      },
      "outputs": [
        {
          "output_type": "stream",
          "name": "stdout",
          "text": [
            "Authtoken saved to configuration file: /root/.config/ngrok/ngrok.yml\n"
          ]
        }
      ],
      "source": [
        "!ngrok authtoken '2ighL0YEwJxisFZFo8JWIFL1wtf_3CdEFhapKNHeoHFAE2m4d'"
      ]
    },
    {
      "cell_type": "code",
      "execution_count": 3,
      "metadata": {
        "colab": {
          "base_uri": "https://localhost:8080/"
        },
        "id": "nv6Q_tf_eg-Y",
        "outputId": "47500aa7-8ae8-4c49-8e7e-686bd42230a4"
      },
      "outputs": [
        {
          "output_type": "stream",
          "name": "stdout",
          "text": [
            "Overwriting app.py\n"
          ]
        }
      ],
      "source": [
        "%%writefile app.py\n",
        "import asyncio\n",
        "from fastapi import FastAPI, UploadFile, File, Form\n",
        "from fastapi.responses import JSONResponse\n",
        "import pandas as pd\n",
        "import h2o\n",
        "from h2o.automl import H2OAutoML\n",
        "from io import StringIO\n",
        "import uuid\n",
        "\n",
        "app = FastAPI()\n",
        "\n",
        "h2o.init()\n",
        "\n",
        "# In-memory storage for tasks\n",
        "tasks = {}\n",
        "queue = asyncio.Queue()\n",
        "\n",
        "class TaskStatus:\n",
        "    WAITING = \"waiting\"\n",
        "    IN_PROGRESS = \"in_progress\"\n",
        "    DONE = \"done\"\n",
        "    ERROR = \"error\"\n",
        "\n",
        "async def train_model_task(task_id, file_content):\n",
        "    tasks[task_id]['status'] = TaskStatus.IN_PROGRESS\n",
        "    try:\n",
        "        csv_data = StringIO(file_content.decode('utf-8'))\n",
        "        df = pd.read_csv(csv_data)\n",
        "        # df = limit_rows(df)\n",
        "        h2o_df = h2o.H2OFrame(df)\n",
        "        x = h2o_df.columns\n",
        "        y = x[-1]\n",
        "        x.remove(y)\n",
        "\n",
        "        prob_type = \"regression\"\n",
        "        target_unique_values = h2o_df[y].unique().nrow\n",
        "        if (h2o_df[y].isnumeric()[0] and target_unique_values < 10) or not h2o_df[y].isnumeric()[0]:\n",
        "            prob_type = \"classification\"\n",
        "            h2o_df[y] = h2o_df[y].asfactor()\n",
        "\n",
        "        include_algos = [\"GLM\", \"GBM\", \"XGBoost\"]\n",
        "        aml = H2OAutoML(max_models=10, seed=1, include_algos=include_algos)\n",
        "        aml.train(x=x, y=y, training_frame=h2o_df)\n",
        "        model = aml.leader\n",
        "        model_metrics = model.model_performance()._metric_json\n",
        "\n",
        "        include_dl = False\n",
        "        if prob_type == \"classification\":\n",
        "            if float(model_metrics['logloss']) > 0.2:\n",
        "                include_dl = True\n",
        "        elif float(model_metrics['r2']) < 0.8:\n",
        "            include_dl = True\n",
        "\n",
        "        if include_dl:\n",
        "            metric = model_metrics['logloss'] if prob_type == \"classification\" else model_metrics['r2']\n",
        "            aml2 = H2OAutoML(max_models=2, seed=1, include_algos=[\"DeepLearning\"])\n",
        "            aml2.train(x=x, y=y, training_frame=h2o_df)\n",
        "            model2 = aml2.leader\n",
        "            if prob_type == \"classification\":\n",
        "                if float(model2.model_performance()._metric_json['logloss']) < float(model_metrics['logloss']):\n",
        "                    model = model2\n",
        "            elif float(model2.model_performance()._metric_json['r2']) > float(model_metrics['r2']):\n",
        "                model = model2\n",
        "\n",
        "        model_path = h2o.save_model(model=model, path=\"./models\", force=True)\n",
        "        model_metrics = model.model_performance()._metric_json\n",
        "\n",
        "        if prob_type == \"classification\" :\n",
        "          model_details = {\n",
        "              'model_id': model.model_id,\n",
        "              'model_type': model.algo,\n",
        "              'model_path': model_path,\n",
        "              'model_category': model_metrics['model_category'],\n",
        "              'AUC' : model_metrics['AUC'],\n",
        "              'logloss' : model_metrics['logloss'],\n",
        "              'MSE' : model_metrics['MSE'],\n",
        "          }\n",
        "        else :\n",
        "          model_details = {\n",
        "              'model_id': model.model_id,\n",
        "              'model_type': model.algo,\n",
        "              'model_path': model_path,\n",
        "              'model_category': model_metrics['model_category'],\n",
        "              'MSE' : model_metrics['MSE'],\n",
        "              'RMSE' : model_metrics['RMSE'],\n",
        "              'R2' : model_metrics['r2']\n",
        "          }\n",
        "\n",
        "        tasks[task_id]['status'] = TaskStatus.DONE\n",
        "        tasks[task_id]['model_details'] = model_details\n",
        "    except Exception as e:\n",
        "        tasks[task_id]['status'] = TaskStatus.ERROR\n",
        "        tasks[task_id]['error'] = str(e)\n",
        "\n",
        "@app.post('/train')\n",
        "async def train_model(file: UploadFile = File(...)):\n",
        "    task_id = str(uuid.uuid4())\n",
        "    tasks[task_id] = {'status': TaskStatus.WAITING}\n",
        "    file_content = await file.read()\n",
        "    await queue.put((task_id, file_content))\n",
        "    return JSONResponse(content={'task_id': task_id})\n",
        "\n",
        "@app.get('/monitor/{task_id}')\n",
        "async def monitor_task(task_id: str):\n",
        "    if task_id not in tasks:\n",
        "        return JSONResponse(status_code=404, content={'error': 'Task not found'})\n",
        "    return JSONResponse(content=tasks[task_id])\n",
        "\n",
        "@app.post('/predict')\n",
        "async def predict_model(modelpath: str = Form(...), file: UploadFile = File(...)):\n",
        "    csv_data = StringIO((await file.read()).decode('utf-8'))\n",
        "    input_df = pd.read_csv(csv_data)\n",
        "    h2o_input_df = h2o.H2OFrame(input_df)\n",
        "    model = h2o.load_model(modelpath)\n",
        "    predictions = model.predict(h2o_input_df)\n",
        "    predictions_df = predictions.as_data_frame()\n",
        "    return JSONResponse(content=predictions_df.to_dict(orient=\"records\"))\n",
        "\n",
        "async def worker():\n",
        "    while True:\n",
        "        task_id, file_content = await queue.get()\n",
        "        await train_model_task(task_id, file_content)\n",
        "        queue.task_done()\n",
        "\n",
        "@app.on_event(\"startup\")\n",
        "async def startup_event():\n",
        "    loop = asyncio.get_running_loop()\n",
        "    loop.create_task(worker())\n"
      ]
    },
    {
      "cell_type": "code",
      "execution_count": null,
      "metadata": {
        "colab": {
          "base_uri": "https://localhost:8080/"
        },
        "id": "0ZP4jlracrCN",
        "outputId": "ed4be172-9124-49c2-db19-d556f9388d12"
      },
      "outputs": [
        {
          "output_type": "stream",
          "name": "stdout",
          "text": [
            "Public URL: NgrokTunnel: \"https://9995-35-231-169-62.ngrok-free.app\" -> \"http://localhost:8000\"\n",
            "\u001b[32mINFO\u001b[0m:     Will watch for changes in these directories: ['/content']\n",
            "\u001b[32mINFO\u001b[0m:     Uvicorn running on \u001b[1mhttp://0.0.0.0:8000\u001b[0m (Press CTRL+C to quit)\n",
            "\u001b[32mINFO\u001b[0m:     Started reloader process [\u001b[36m\u001b[1m1960\u001b[0m] using \u001b[36m\u001b[1mWatchFiles\u001b[0m\n",
            "Checking whether there is an H2O instance running at http://localhost:54321..... not found.\n",
            "Attempting to start a local H2O server...\n",
            "  Java Version: openjdk version \"11.0.23\" 2024-04-16; OpenJDK Runtime Environment (build 11.0.23+9-post-Ubuntu-1ubuntu122.04.1); OpenJDK 64-Bit Server VM (build 11.0.23+9-post-Ubuntu-1ubuntu122.04.1, mixed mode, sharing)\n",
            "  Starting server from /usr/local/lib/python3.10/dist-packages/h2o/backend/bin/h2o.jar\n",
            "  Ice root: /tmp/tmpys59_y6z\n",
            "  JVM stdout: /tmp/tmpys59_y6z/h2o_unknownUser_started_from_python.out\n",
            "  JVM stderr: /tmp/tmpys59_y6z/h2o_unknownUser_started_from_python.err\n",
            "  Server is running at http://127.0.0.1:54321\n",
            "Connecting to H2O server at http://127.0.0.1:54321 ... successful.\n",
            "--------------------------  -----------------------------------------------------------------------------------------\n",
            "H2O_cluster_uptime:         03 secs\n",
            "H2O_cluster_timezone:       Etc/UTC\n",
            "H2O_data_parsing_timezone:  UTC\n",
            "H2O_cluster_version:        3.46.0.4\n",
            "H2O_cluster_version_age:    20 days\n",
            "H2O_cluster_name:           H2O_from_python_unknownUser_uulk1d\n",
            "H2O_cluster_total_nodes:    1\n",
            "H2O_cluster_free_memory:    3.170 Gb\n",
            "H2O_cluster_total_cores:    2\n",
            "H2O_cluster_allowed_cores:  2\n",
            "H2O_cluster_status:         locked, healthy\n",
            "H2O_connection_url:         http://127.0.0.1:54321\n",
            "H2O_connection_proxy:       {\"http\": null, \"https\": null, \"colab_language_server\": \"/usr/colab/bin/language_service\"}\n",
            "H2O_internal_security:      False\n",
            "Python_version:             3.10.12 final\n",
            "--------------------------  -----------------------------------------------------------------------------------------\n",
            "\u001b[32mINFO\u001b[0m:     Started server process [\u001b[36m1966\u001b[0m]\n",
            "\u001b[32mINFO\u001b[0m:     Waiting for application startup.\n",
            "\u001b[32mINFO\u001b[0m:     Application startup complete.\n",
            "\u001b[32mINFO\u001b[0m:     41.226.32.137:0 - \"\u001b[1mPOST /train HTTP/1.1\u001b[0m\" \u001b[32m200 OK\u001b[0m\n",
            ")| 100%\n",
            "\n",
            "15:25:01.270: XGBoost_1_AutoML_1_20240730_152500 [XGBoost def_2] failed: water.exceptions.H2OModelBuilderIllegalArgumentException: Illegal argument(s) for XGBoost model: XGBoost_1_AutoML_1_20240730_152500_cv_1.  Details: ERRR on field: _response_column: Response contains missing values (NAs) - not supported by XGBoost.\n",
            "\n",
            "\n",
            "\n",
            "15:25:05.960: XGBoost_2_AutoML_1_20240730_152500 [XGBoost def_1] failed: water.exceptions.H2OModelBuilderIllegalArgumentException: Illegal argument(s) for XGBoost model: XGBoost_2_AutoML_1_20240730_152500_cv_1.  Details: ERRR on field: _response_column: Response contains missing values (NAs) - not supported by XGBoost.\n",
            "\n",
            "\n",
            "\n",
            "15:25:11.160: XGBoost_3_AutoML_1_20240730_152500 [XGBoost def_3] failed: water.exceptions.H2OModelBuilderIllegalArgumentException: Illegal argument(s) for XGBoost model: XGBoost_3_AutoML_1_20240730_152500_cv_1.  Details: ERRR on field: _response_column: Response contains missing values (NAs) - not supported by XGBoost.\n",
            "\n",
            "\n",
            ")| 100%\n",
            "\u001b[32mINFO\u001b[0m:     41.226.32.137:0 - \"\u001b[1mGET /monitor/021f993d-4444-40b5-b2d7-8c2490bd9dcc HTTP/1.1\u001b[0m\" \u001b[32m200 OK\u001b[0m\n",
            "\u001b[32mINFO\u001b[0m:     41.226.32.137:0 - \"\u001b[1mPOST /train HTTP/1.1\u001b[0m\" \u001b[32m200 OK\u001b[0m\n",
            ")| 100%\n",
            "AutoML progress: |               |   0%\n",
            "15:36:37.443: XGBoost_1_AutoML_2_20240730_153637 [XGBoost def_2] failed: water.exceptions.H2OModelBuilderIllegalArgumentException: Illegal argument(s) for XGBoost model: XGBoost_1_AutoML_2_20240730_153637_cv_1.  Details: ERRR on field: _response_column: Response contains missing values (NAs) - not supported by XGBoost.\n",
            "\n",
            "\n",
            "\n",
            "15:36:39.12: XGBoost_2_AutoML_2_20240730_153637 [XGBoost def_1] failed: water.exceptions.H2OModelBuilderIllegalArgumentException: Illegal argument(s) for XGBoost model: XGBoost_2_AutoML_2_20240730_153637_cv_1.  Details: ERRR on field: _response_column: Response contains missing values (NAs) - not supported by XGBoost.\n",
            "\n",
            "\n",
            "\n",
            "15:36:41.982: XGBoost_3_AutoML_2_20240730_153637 [XGBoost def_3] failed: water.exceptions.H2OModelBuilderIllegalArgumentException: Illegal argument(s) for XGBoost model: XGBoost_3_AutoML_2_20240730_153637_cv_1.  Details: ERRR on field: _response_column: Response contains missing values (NAs) - not supported by XGBoost.\n",
            "\n",
            "\n",
            ")| 100%\n",
            "\u001b[32mINFO\u001b[0m:     41.226.32.137:0 - \"\u001b[1mGET /monitor/8ae0ec05-cfed-465d-a6d5-246516d042b9 HTTP/1.1\u001b[0m\" \u001b[32m200 OK\u001b[0m\n",
            ")| 100%\n",
            "glm prediction progress: |███████████████ (done)| 100%\n",
            "/usr/local/lib/python3.10/dist-packages/h2o/frame.py:1981: H2ODependencyWarning: Converting H2O frame to pandas dataframe using single-thread.  For faster conversion using multi-thread, install polars and pyarrow and use it as pandas_df = h2o_df.as_data_frame(use_multi_thread=True)\n",
            "\n",
            "  warnings.warn(\"Converting H2O frame to pandas dataframe using single-thread.  For faster conversion using\"\n",
            "\u001b[32mINFO\u001b[0m:     41.226.32.137:0 - \"\u001b[1mPOST /predict HTTP/1.1\u001b[0m\" \u001b[32m200 OK\u001b[0m\n"
          ]
        }
      ],
      "source": [
        "import uvicorn\n",
        "from pyngrok import ngrok\n",
        "\n",
        "ngrok.kill()\n",
        "public_url = ngrok.connect(8000)\n",
        "print(f\"Public URL: {public_url}\")\n",
        "\n",
        "!uvicorn app:app --host 0.0.0.0 --port 8000 --reload\n"
      ]
    },
    {
      "cell_type": "code",
      "execution_count": null,
      "metadata": {
        "id": "Y4Gpx8Dwddyf"
      },
      "outputs": [],
      "source": []
    }
  ],
  "metadata": {
    "colab": {
      "provenance": []
    },
    "kernelspec": {
      "display_name": "Python 3",
      "name": "python3"
    },
    "language_info": {
      "name": "python"
    }
  },
  "nbformat": 4,
  "nbformat_minor": 0
}