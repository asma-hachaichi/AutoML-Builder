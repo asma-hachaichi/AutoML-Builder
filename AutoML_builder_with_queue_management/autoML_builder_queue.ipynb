{
  "nbformat": 4,
  "nbformat_minor": 0,
  "metadata": {
    "colab": {
      "provenance": []
    },
    "kernelspec": {
      "name": "python3",
      "display_name": "Python 3"
    },
    "language_info": {
      "name": "python"
    }
  },
  "cells": [
    {
      "cell_type": "code",
      "execution_count": 12,
      "metadata": {
        "colab": {
          "base_uri": "https://localhost:8080/"
        },
        "id": "7LetMFzjvm4d",
        "outputId": "302cd844-ac70-449e-b257-130627dd554d"
      },
      "outputs": [
        {
          "output_type": "stream",
          "name": "stdout",
          "text": [
            "Requirement already satisfied: fastapi in /usr/local/lib/python3.10/dist-packages (0.112.0)\n",
            "Requirement already satisfied: nest-asyncio in /usr/local/lib/python3.10/dist-packages (1.6.0)\n",
            "Requirement already satisfied: pyngrok in /usr/local/lib/python3.10/dist-packages (7.2.0)\n",
            "Requirement already satisfied: uvicorn in /usr/local/lib/python3.10/dist-packages (0.30.5)\n",
            "Requirement already satisfied: h2o in /usr/local/lib/python3.10/dist-packages (3.46.0.4)\n",
            "Requirement already satisfied: python-multipart in /usr/local/lib/python3.10/dist-packages (0.0.9)\n",
            "Requirement already satisfied: starlette<0.38.0,>=0.37.2 in /usr/local/lib/python3.10/dist-packages (from fastapi) (0.37.2)\n",
            "Requirement already satisfied: pydantic!=1.8,!=1.8.1,!=2.0.0,!=2.0.1,!=2.1.0,<3.0.0,>=1.7.4 in /usr/local/lib/python3.10/dist-packages (from fastapi) (2.8.2)\n",
            "Requirement already satisfied: typing-extensions>=4.8.0 in /usr/local/lib/python3.10/dist-packages (from fastapi) (4.12.2)\n",
            "Requirement already satisfied: PyYAML>=5.1 in /usr/local/lib/python3.10/dist-packages (from pyngrok) (6.0.1)\n",
            "Requirement already satisfied: click>=7.0 in /usr/local/lib/python3.10/dist-packages (from uvicorn) (8.1.7)\n",
            "Requirement already satisfied: h11>=0.8 in /usr/local/lib/python3.10/dist-packages (from uvicorn) (0.14.0)\n",
            "Requirement already satisfied: requests in /usr/local/lib/python3.10/dist-packages (from h2o) (2.31.0)\n",
            "Requirement already satisfied: tabulate in /usr/local/lib/python3.10/dist-packages (from h2o) (0.9.0)\n",
            "Requirement already satisfied: annotated-types>=0.4.0 in /usr/local/lib/python3.10/dist-packages (from pydantic!=1.8,!=1.8.1,!=2.0.0,!=2.0.1,!=2.1.0,<3.0.0,>=1.7.4->fastapi) (0.7.0)\n",
            "Requirement already satisfied: pydantic-core==2.20.1 in /usr/local/lib/python3.10/dist-packages (from pydantic!=1.8,!=1.8.1,!=2.0.0,!=2.0.1,!=2.1.0,<3.0.0,>=1.7.4->fastapi) (2.20.1)\n",
            "Requirement already satisfied: anyio<5,>=3.4.0 in /usr/local/lib/python3.10/dist-packages (from starlette<0.38.0,>=0.37.2->fastapi) (3.7.1)\n",
            "Requirement already satisfied: charset-normalizer<4,>=2 in /usr/local/lib/python3.10/dist-packages (from requests->h2o) (3.3.2)\n",
            "Requirement already satisfied: idna<4,>=2.5 in /usr/local/lib/python3.10/dist-packages (from requests->h2o) (3.7)\n",
            "Requirement already satisfied: urllib3<3,>=1.21.1 in /usr/local/lib/python3.10/dist-packages (from requests->h2o) (2.0.7)\n",
            "Requirement already satisfied: certifi>=2017.4.17 in /usr/local/lib/python3.10/dist-packages (from requests->h2o) (2024.7.4)\n",
            "Requirement already satisfied: sniffio>=1.1 in /usr/local/lib/python3.10/dist-packages (from anyio<5,>=3.4.0->starlette<0.38.0,>=0.37.2->fastapi) (1.3.1)\n",
            "Requirement already satisfied: exceptiongroup in /usr/local/lib/python3.10/dist-packages (from anyio<5,>=3.4.0->starlette<0.38.0,>=0.37.2->fastapi) (1.2.2)\n"
          ]
        }
      ],
      "source": [
        "!pip install fastapi nest-asyncio pyngrok uvicorn h2o"
      ]
    },
    {
      "cell_type": "code",
      "source": [
        "!ngrok authtoken '2ighL0YEwJxisFZFo8JWIFL1wtf_3CdEFhapKNHeoHFAE2m4d'"
      ],
      "metadata": {
        "colab": {
          "base_uri": "https://localhost:8080/"
        },
        "id": "QnJEmNX_vwO5",
        "outputId": "ae2bc7d6-2d8d-429b-ab07-e947b69a28db"
      },
      "execution_count": 16,
      "outputs": [
        {
          "output_type": "stream",
          "name": "stdout",
          "text": [
            "Authtoken saved to configuration file: /root/.config/ngrok/ngrok.yml\n"
          ]
        }
      ]
    },
    {
      "cell_type": "code",
      "source": [
        "%%writefile app.py\n",
        "import asyncio\n",
        "import sched\n",
        "import time\n",
        "from fastapi import FastAPI, UploadFile, File, Form\n",
        "from fastapi.responses import JSONResponse\n",
        "import pandas as pd\n",
        "import h2o\n",
        "from h2o.automl import H2OAutoML\n",
        "from io import StringIO\n",
        "import uuid\n",
        "\n",
        "app = FastAPI()\n",
        "h2o.init()\n",
        "\n",
        "# In-memory storage for tasks\n",
        "tasks = {}\n",
        "scheduler = sched.scheduler(time.time, time.sleep)\n",
        "\n",
        "class TaskStatus:\n",
        "    WAITING = \"waiting\"\n",
        "    IN_PROGRESS = \"in_progress\"\n",
        "    DONE = \"done\"\n",
        "    ERROR = \"error\"\n",
        "\n",
        "def limit_rows(df, max_rows=500):\n",
        "    num_rows, num_cols = df.shape\n",
        "    df_non_null = df.dropna()\n",
        "\n",
        "    if len(df_non_null) > max_rows:\n",
        "        df_non_null = df_non_null.sample(n=max_rows, random_state=42)\n",
        "    return df_non_null\n",
        "\n",
        "def train_model_task(task_id, file_content):\n",
        "    try:\n",
        "        tasks[task_id]['status'] = TaskStatus.IN_PROGRESS\n",
        "        csv_data = StringIO(file_content.decode('utf-8'))\n",
        "        df = pd.read_csv(csv_data)\n",
        "        df = limit_rows(df)\n",
        "        h2o_df = h2o.H2OFrame(df)\n",
        "        x = h2o_df.columns\n",
        "        y = x[-1]\n",
        "        x.remove(y)\n",
        "\n",
        "        prob_type = \"regression\"\n",
        "        target_unique_values = h2o_df[y].unique().nrow\n",
        "        if (h2o_df[y].isnumeric()[0] and target_unique_values < 10) or not h2o_df[y].isnumeric()[0]:\n",
        "            prob_type = \"classification\"\n",
        "            h2o_df[y] = h2o_df[y].asfactor()\n",
        "\n",
        "        include_algos = [\"GLM\", \"GBM\", \"XGBoost\"]\n",
        "        aml = H2OAutoML(max_models=10, seed=1, include_algos=include_algos)\n",
        "        aml.train(x=x, y=y, training_frame=h2o_df)\n",
        "        model = aml.leader\n",
        "        model_metrics = model.model_performance()._metric_json\n",
        "\n",
        "        include_dl = False\n",
        "        if prob_type == \"classification\":\n",
        "            if float(model_metrics['logloss']) > 0.2:\n",
        "                include_dl = True\n",
        "        elif float(model_metrics['r2']) < 0.8:\n",
        "            include_dl = True\n",
        "\n",
        "        if include_dl:\n",
        "            metric = model_metrics['logloss'] if prob_type == \"classification\" else model_metrics['r2']\n",
        "            aml2 = H2OAutoML(max_models=2, seed=1, include_algos=[\"DeepLearning\"])\n",
        "            aml2.train(x=x, y=y, training_frame=h2o_df)\n",
        "            model2 = aml2.leader\n",
        "            if prob_type == \"classification\":\n",
        "                if float(model2.model_performance()._metric_json['logloss']) < float(model_metrics['logloss']):\n",
        "                    model = model2\n",
        "            elif float(model2.model_performance()._metric_json['r2']) > float(model_metrics['r2']):\n",
        "                model = model2\n",
        "\n",
        "        model_path = h2o.save_model(model=model, path=\"./models\", force=True)\n",
        "        model_metrics = model.model_performance()._metric_json\n",
        "\n",
        "        if prob_type == \"classification\":\n",
        "            model_details = {\n",
        "                'model_id': model.model_id,\n",
        "                'model_type': model.algo,\n",
        "                'model_path': model_path,\n",
        "                'model_category': model_metrics['model_category'],\n",
        "                'AUC': model_metrics['AUC'],\n",
        "                'logloss': model_metrics['logloss'],\n",
        "                'MSE': model_metrics['MSE'],\n",
        "            }\n",
        "        else:\n",
        "            model_details = {\n",
        "                'model_id': model.model_id,\n",
        "                'model_type': model.algo,\n",
        "                'model_path': model_path,\n",
        "                'model_category': model_metrics['model_category'],\n",
        "                'MSE': model_metrics['MSE'],\n",
        "                'RMSE': model_metrics['RMSE'],\n",
        "                'R2': model_metrics['r2']\n",
        "            }\n",
        "\n",
        "        tasks[task_id]['status'] = TaskStatus.DONE\n",
        "        tasks[task_id]['model_details'] = model_details\n",
        "    except Exception as e:\n",
        "        tasks[task_id]['status'] = TaskStatus.ERROR\n",
        "        tasks[task_id]['error'] = str(e)\n",
        "\n",
        "@app.post('/train')\n",
        "async def train_model(file: UploadFile = File(...)):\n",
        "    task_id = str(uuid.uuid4())\n",
        "    tasks[task_id] = {'status': TaskStatus.WAITING}\n",
        "    file_content = await file.read()\n",
        "\n",
        "    # Schedule the task using the scheduler\n",
        "    scheduler.enter(0, 1, train_model_task, (task_id, file_content))\n",
        "    asyncio.create_task(run_scheduler())\n",
        "\n",
        "    return JSONResponse(content={'task_id': task_id})\n",
        "\n",
        "@app.get('/monitor/{task_id}')\n",
        "async def monitor_task(task_id: str):\n",
        "    task = tasks.get(task_id)\n",
        "    if not task:\n",
        "        return JSONResponse(status_code=404, content={'error': 'Task not found'})\n",
        "    return JSONResponse(content=task)\n",
        "\n",
        "@app.post('/predict')\n",
        "async def predict_model(modelpath: str = Form(...), file: UploadFile = File(...)):\n",
        "    csv_data = StringIO((await file.read()).decode('utf-8'))\n",
        "    input_df = pd.read_csv(csv_data)\n",
        "    h2o_input_df = h2o.H2OFrame(input_df)\n",
        "    model = h2o.load_model(modelpath)\n",
        "    predictions = model.predict(h2o_input_df)\n",
        "    predictions_df = predictions.as_data_frame()\n",
        "    return JSONResponse(content=predictions_df.to_dict(orient=\"records\"))\n",
        "\n",
        "async def run_scheduler():\n",
        "    loop = asyncio.get_event_loop()\n",
        "    await loop.run_in_executor(None, scheduler.run)\n",
        "\n",
        "@app.on_event(\"startup\")\n",
        "async def startup_event():\n",
        "    loop = asyncio.get_running_loop()\n",
        "    loop.create_task(run_scheduler())\n"
      ],
      "metadata": {
        "colab": {
          "base_uri": "https://localhost:8080/"
        },
        "id": "hL6A5xM_zgNK",
        "outputId": "4e86c298-9e00-46f3-e21a-0fadde6ef686"
      },
      "execution_count": 17,
      "outputs": [
        {
          "output_type": "stream",
          "name": "stdout",
          "text": [
            "Overwriting app.py\n"
          ]
        }
      ]
    },
    {
      "cell_type": "code",
      "source": [
        "import uvicorn\n",
        "from pyngrok import ngrok\n",
        "\n",
        "ngrok.kill()\n",
        "public_url = ngrok.connect(8000)\n",
        "print(f\"Public URL: {public_url}\")\n",
        "\n",
        "!uvicorn app:app --host 0.0.0.0 --port 8000 --reload"
      ],
      "metadata": {
        "colab": {
          "base_uri": "https://localhost:8080/"
        },
        "id": "dWo64w0k0Cd2",
        "outputId": "03c4a2d1-b901-4103-a207-9351b0587317"
      },
      "execution_count": null,
      "outputs": [
        {
          "output_type": "stream",
          "name": "stdout",
          "text": [
            "Public URL: NgrokTunnel: \"https://ccf3-35-239-116-136.ngrok-free.app\" -> \"http://localhost:8000\"\n",
            "\u001b[32mINFO\u001b[0m:     Will watch for changes in these directories: ['/content']\n",
            "\u001b[32mINFO\u001b[0m:     Uvicorn running on \u001b[1mhttp://0.0.0.0:8000\u001b[0m (Press CTRL+C to quit)\n",
            "\u001b[32mINFO\u001b[0m:     Started reloader process [\u001b[36m\u001b[1m2714\u001b[0m] using \u001b[36m\u001b[1mStatReload\u001b[0m\n",
            "Checking whether there is an H2O instance running at http://localhost:54321..... not found.\n",
            "Attempting to start a local H2O server...\n",
            "  Java Version: openjdk version \"11.0.24\" 2024-07-16; OpenJDK Runtime Environment (build 11.0.24+8-post-Ubuntu-1ubuntu322.04); OpenJDK 64-Bit Server VM (build 11.0.24+8-post-Ubuntu-1ubuntu322.04, mixed mode, sharing)\n",
            "  Starting server from /usr/local/lib/python3.10/dist-packages/h2o/backend/bin/h2o.jar\n",
            "  Ice root: /tmp/tmpx98ptmjl\n",
            "  JVM stdout: /tmp/tmpx98ptmjl/h2o_unknownUser_started_from_python.out\n",
            "  JVM stderr: /tmp/tmpx98ptmjl/h2o_unknownUser_started_from_python.err\n",
            "  Server is running at http://127.0.0.1:54321\n",
            "Connecting to H2O server at http://127.0.0.1:54321 ... successful.\n",
            "--------------------------  -----------------------------------------------------------------------------------------\n",
            "H2O_cluster_uptime:         03 secs\n",
            "H2O_cluster_timezone:       Etc/UTC\n",
            "H2O_data_parsing_timezone:  UTC\n",
            "H2O_cluster_version:        3.46.0.4\n",
            "H2O_cluster_version_age:    24 days\n",
            "H2O_cluster_name:           H2O_from_python_unknownUser_ue42e0\n",
            "H2O_cluster_total_nodes:    1\n",
            "H2O_cluster_free_memory:    3.170 Gb\n",
            "H2O_cluster_total_cores:    2\n",
            "H2O_cluster_allowed_cores:  2\n",
            "H2O_cluster_status:         locked, healthy\n",
            "H2O_connection_url:         http://127.0.0.1:54321\n",
            "H2O_connection_proxy:       {\"http\": null, \"https\": null, \"colab_language_server\": \"/usr/colab/bin/language_service\"}\n",
            "H2O_internal_security:      False\n",
            "Python_version:             3.10.12 final\n",
            "--------------------------  -----------------------------------------------------------------------------------------\n",
            "\u001b[32mINFO\u001b[0m:     Started server process [\u001b[36m2716\u001b[0m]\n",
            "\u001b[32mINFO\u001b[0m:     Waiting for application startup.\n",
            "\u001b[32mINFO\u001b[0m:     Application startup complete.\n",
            "\u001b[32mINFO\u001b[0m:     41.62.193.194:0 - \"\u001b[1mGET / HTTP/1.1\u001b[0m\" \u001b[31m404 Not Found\u001b[0m\n",
            "\u001b[32mINFO\u001b[0m:     41.62.193.194:0 - \"\u001b[1mPOST /train HTTP/1.1\u001b[0m\" \u001b[32m200 OK\u001b[0m\n",
            ")| 100%\n",
            "\u001b[32mINFO\u001b[0m:     41.62.193.194:0 - \"\u001b[1mPOST /train HTTP/1.1\u001b[0m\" \u001b[32m200 OK\u001b[0m\n",
            ")| 100%\n",
            "\u001b[32mINFO\u001b[0m:     41.62.193.194:0 - \"\u001b[1mGET /monitor/d6fc6347-173f-4f3f-95a7-013677f87726 HTTP/1.1\u001b[0m\" \u001b[32m200 OK\u001b[0m\n",
            "\u001b[32mINFO\u001b[0m:     41.62.193.194:0 - \"\u001b[1mGET /monitor/d6fc6347-173f-4f3f-95a7-013677f87726 HTTP/1.1\u001b[0m\" \u001b[32m200 OK\u001b[0m\n",
            ")| 100%\n",
            ")| 100%\n",
            "\u001b[32mINFO\u001b[0m:     41.62.193.194:0 - \"\u001b[1mGET /monitor/d6fc6347-173f-4f3f-95a7-013677f87726 HTTP/1.1\u001b[0m\" \u001b[32m200 OK\u001b[0m\n",
            ")| 100%\n",
            ")| 100%\n",
            "/usr/local/lib/python3.10/dist-packages/h2o/frame.py:1981: H2ODependencyWarning: Converting H2O frame to pandas dataframe using single-thread.  For faster conversion using multi-thread, install polars and pyarrow and use it as pandas_df = h2o_df.as_data_frame(use_multi_thread=True)\n",
            "\n",
            "  warnings.warn(\"Converting H2O frame to pandas dataframe using single-thread.  For faster conversion using\"\n",
            "\u001b[32mINFO\u001b[0m:     41.62.193.194:0 - \"\u001b[1mPOST /predict HTTP/1.1\u001b[0m\" \u001b[32m200 OK\u001b[0m\n",
            ")| 100%\n"
          ]
        }
      ]
    },
    {
      "cell_type": "code",
      "source": [],
      "metadata": {
        "id": "SdKpfFHs0ImU"
      },
      "execution_count": null,
      "outputs": []
    }
  ]
}